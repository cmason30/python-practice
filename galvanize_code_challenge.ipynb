{
  "nbformat": 4,
  "nbformat_minor": 0,
  "metadata": {
    "colab": {
      "name": "galvanize_code_challenge.ipynb",
      "provenance": [],
      "authorship_tag": "ABX9TyO6DVSwJq/INTza7dq/ZCkM",
      "include_colab_link": true
    },
    "kernelspec": {
      "name": "python3",
      "display_name": "Python 3"
    },
    "language_info": {
      "name": "python"
    }
  },
  "cells": [
    {
      "cell_type": "markdown",
      "metadata": {
        "id": "view-in-github",
        "colab_type": "text"
      },
      "source": [
        "<a href=\"https://colab.research.google.com/github/cmason30/python-practice/blob/master/galvanize_code_challenge.ipynb\" target=\"_parent\"><img src=\"https://colab.research.google.com/assets/colab-badge.svg\" alt=\"Open In Colab\"/></a>"
      ]
    },
    {
      "cell_type": "code",
      "metadata": {
        "id": "kkA0hGesl6gq"
      },
      "source": [
        "import numpy as np"
      ],
      "execution_count": 12,
      "outputs": []
    },
    {
      "cell_type": "code",
      "metadata": {
        "id": "gkdpi-9xc8HO"
      },
      "source": [
        "def sum_rec_dig(n): \n",
        "  dig_list = [int(i) for i in str(n)]\n",
        "  sum_rec = sum(dig_list)\n",
        "  while sum_rec > 9:\n",
        "    new_rec_list = [int(i) for i in str(sum_rec)]\n",
        "    sum_rec = sum(new_rec_list)\n",
        "    \n",
        "  return sum_rec"
      ],
      "execution_count": null,
      "outputs": []
    },
    {
      "cell_type": "code",
      "metadata": {
        "colab": {
          "base_uri": "https://localhost:8080/"
        },
        "id": "tRpCCScRdIBz",
        "outputId": "bf6ae383-7a64-42d5-e4b1-520a78a1e9f6"
      },
      "source": [
        "sum_rec_dig(5218)"
      ],
      "execution_count": null,
      "outputs": [
        {
          "output_type": "execute_result",
          "data": {
            "text/plain": [
              "7"
            ]
          },
          "metadata": {
            "tags": []
          },
          "execution_count": 42
        }
      ]
    },
    {
      "cell_type": "code",
      "metadata": {
        "id": "WAX6bCssPCfc"
      },
      "source": [
        "def distr_of_rec_digit_sums(low=0, high=1500):\n",
        "  hist_int = dict.fromkeys(range(0,10), 0)\n",
        "  for i in range(low, high + 1):\n",
        "    hist_int[sum_rec_dig(i)] += 1\n",
        "\n",
        "  return hist_int"
      ],
      "execution_count": null,
      "outputs": []
    },
    {
      "cell_type": "code",
      "metadata": {
        "colab": {
          "base_uri": "https://localhost:8080/"
        },
        "id": "9TU_qXNYQknL",
        "outputId": "9d97c1cf-7e4c-4355-dcf8-9d136b15561f"
      },
      "source": [
        "distr_of_rec_digit_sums()"
      ],
      "execution_count": null,
      "outputs": [
        {
          "output_type": "stream",
          "text": [
            "{0: 0, 1: 0, 2: 0, 3: 0, 4: 0, 5: 0, 6: 0, 7: 0, 8: 0, 9: 0}\n"
          ],
          "name": "stdout"
        },
        {
          "output_type": "execute_result",
          "data": {
            "text/plain": [
              "{0: 1, 1: 167, 2: 167, 3: 167, 4: 167, 5: 167, 6: 167, 7: 166, 8: 166, 9: 166}"
            ]
          },
          "metadata": {
            "tags": []
          },
          "execution_count": 40
        }
      ]
    },
    {
      "cell_type": "code",
      "metadata": {
        "colab": {
          "base_uri": "https://localhost:8080/"
        },
        "id": "SsGKZ5kKWH2M",
        "outputId": "a8839b2b-bc32-431b-a8d5-a2330ab4a216"
      },
      "source": [
        "def dig_pow(n, p):\n",
        "    split_dig = [int(i) for i in str(n)]\n",
        "    \n",
        "    pow_dig = []\n",
        "    for i in split_dig:\n",
        "        pow_dig.append(i**p)\n",
        "        p += 1\n",
        "        \n",
        "    sum_list = sum(pow_dig)\n",
        "\n",
        "    k = 1\n",
        "    print(n*k)\n",
        "    print(sum_list)\n",
        "\n",
        "    while (n*k) < sum_list:\n",
        "      if n*k == sum_list:\n",
        "          return k\n",
        "      else:\n",
        "          return -1\n",
        "      k += 1\n",
        "      print(k)\n",
        "dig_pow(89, 1)"
      ],
      "execution_count": null,
      "outputs": [
        {
          "output_type": "stream",
          "text": [
            "89\n",
            "89\n"
          ],
          "name": "stdout"
        }
      ]
    },
    {
      "cell_type": "code",
      "metadata": {
        "id": "ihFV5f8YpsGU"
      },
      "source": [
        "def sort_and_test(list_1, list_2):\n",
        "    sort_list = list_1.copy()\n",
        "    sort_list.sort(reverse=True)\n",
        "    print(list_1, sort_list)\n",
        "    if sort_list == list_1:\n",
        "        return True\n",
        "    else:\n",
        "        return False"
      ],
      "execution_count": null,
      "outputs": []
    },
    {
      "cell_type": "code",
      "metadata": {
        "colab": {
          "base_uri": "https://localhost:8080/"
        },
        "id": "HAwle-qDpuGC",
        "outputId": "dfe00b23-e1e3-4b80-bd57-44b51e96cc18"
      },
      "source": [
        "x = [10, 9, 8, 7, 6, 5]\n",
        "y = list(range(5, 11))\n",
        "\n",
        "result = sort_and_test(x, y)\n",
        "result"
      ],
      "execution_count": null,
      "outputs": [
        {
          "output_type": "stream",
          "text": [
            "[10, 9, 8, 7, 6, 5] [10, 9, 8, 7, 6, 5]\n"
          ],
          "name": "stdout"
        },
        {
          "output_type": "execute_result",
          "data": {
            "text/plain": [
              "True"
            ]
          },
          "metadata": {
            "tags": []
          },
          "execution_count": 32
        }
      ]
    },
    {
      "cell_type": "code",
      "metadata": {
        "colab": {
          "base_uri": "https://localhost:8080/"
        },
        "id": "pY_7fCCAu19C",
        "outputId": "c97c6757-9253-44fc-92c1-7eea6ba86236"
      },
      "source": [
        "i = 0\n",
        "total = 0\n",
        "loop = True\n",
        "while loop:\n",
        "    if i%10 == 0:\n",
        "        i += 1\n",
        "    else:\n",
        "        total += i\n",
        "        i += 1\n",
        "    if i > 100:\n",
        "        loop = False\n",
        "print(total)"
      ],
      "execution_count": null,
      "outputs": [
        {
          "output_type": "stream",
          "text": [
            "4500\n"
          ],
          "name": "stdout"
        }
      ]
    },
    {
      "cell_type": "code",
      "metadata": {
        "colab": {
          "base_uri": "https://localhost:8080/"
        },
        "id": "3HAbE_KUu4yD",
        "outputId": "901b4499-cddb-47e8-ba98-354cb4c5089d"
      },
      "source": [
        "def sort_remove_dupes_print(*args):\n",
        "    sorted_args = set(args)\n",
        "    print(\" < \".join(map(str, sorted_args)))\n",
        "\n",
        "sort_remove_dupes_print(1, 5, 2, 3, 1, 45, 12, 4, 2, 56, 6, 2, 1, 2, 4)"
      ],
      "execution_count": null,
      "outputs": [
        {
          "output_type": "stream",
          "text": [
            "1 < 2 < 3 < 4 < 5 < 6 < 12 < 45 < 56\n"
          ],
          "name": "stdout"
        }
      ]
    },
    {
      "cell_type": "code",
      "metadata": {
        "id": "0nSxzny5riHJ"
      },
      "source": [
        "def greater_than(x, y):\n",
        "    \"\"\"\n",
        "    Returns the string '_ is greater than _, and their difference is _'\n",
        "    where the values of the arguments x and y are substituted into the string\n",
        "    according to which value is greater.\n",
        "\n",
        "    Ex:\n",
        "    greater_than(-6, 3) -> '3 is greater than -6, and their difference is 9.'\n",
        "\n",
        "    Parameters:\n",
        "    ----------\n",
        "    x : int\n",
        "    y : int\n",
        "\n",
        "    Returns:\n",
        "    ----------\n",
        "    A string that dynamically inserts the variables x and y,\n",
        "    as well as their difference.\n",
        "    \"\"\"\n",
        "    if x > y:\n",
        "        diff = x - y\n",
        "        return f'{x} is greater than {y}, and their difference is {diff}'\n",
        "    else:\n",
        "        diff = y - x\n",
        "        return f'{y} is greater than {x}, and their difference is {diff}'\n",
        "        \n",
        "        "
      ],
      "execution_count": null,
      "outputs": []
    },
    {
      "cell_type": "code",
      "metadata": {
        "colab": {
          "base_uri": "https://localhost:8080/",
          "height": 35
        },
        "id": "twa8i7c7rpSK",
        "outputId": "cb26df11-b2e2-4c13-a758-4ebb5e815816"
      },
      "source": [
        "greater_than(1, 2)"
      ],
      "execution_count": null,
      "outputs": [
        {
          "output_type": "execute_result",
          "data": {
            "application/vnd.google.colaboratory.intrinsic+json": {
              "type": "string"
            },
            "text/plain": [
              "'2 is greater than 1, and their difference is 1'"
            ]
          },
          "metadata": {
            "tags": []
          },
          "execution_count": 52
        }
      ]
    },
    {
      "cell_type": "code",
      "metadata": {
        "colab": {
          "base_uri": "https://localhost:8080/"
        },
        "id": "PEm6MIpC-DDE",
        "outputId": "84660c65-9241-4f7f-de99-c37b5eda8c21"
      },
      "source": [
        "tuple_1 = (1, 2, 3)\n",
        "tuple_2 = (4, 5, 6)\n",
        "\n",
        "tuple_3 = tuple_1 + tuple_2\n",
        "print(tuple_3)\n",
        "\n",
        "tuple_4 = tuple_2 * 2\n",
        "print(tuple_4)"
      ],
      "execution_count": null,
      "outputs": [
        {
          "output_type": "stream",
          "text": [
            "(1, 2, 3, 4, 5, 6)\n",
            "(4, 5, 6, 4, 5, 6)\n"
          ],
          "name": "stdout"
        }
      ]
    },
    {
      "cell_type": "code",
      "metadata": {
        "colab": {
          "base_uri": "https://localhost:8080/"
        },
        "id": "DnZLV5ODhxet",
        "outputId": "785a8d14-8b08-45c6-a07f-9d7ae1ec9ae1"
      },
      "source": [
        "def remove_or_add(x, y):\n",
        "  set_x = x\n",
        "\n",
        "  for i in y:\n",
        "    if i not in set_x:\n",
        "      set_x.add(i)\n",
        "    elif i in set_x:\n",
        "      set_x.remove(i)\n",
        "\n",
        "\n",
        "  return set_x\n",
        "\n",
        "remove_or_add({1, 2, 3}, [1, 'a'])"
      ],
      "execution_count": null,
      "outputs": [
        {
          "output_type": "execute_result",
          "data": {
            "text/plain": [
              "{2, 3, 'a'}"
            ]
          },
          "metadata": {
            "tags": []
          },
          "execution_count": 25
        }
      ]
    },
    {
      "cell_type": "code",
      "metadata": {
        "colab": {
          "base_uri": "https://localhost:8080/"
        },
        "id": "hSz1fielseOg",
        "outputId": "767eca17-cc2f-4fdd-8a8f-cc612fb9c627"
      },
      "source": [
        "def set_accumulator(n):\n",
        "    set1 = set()\n",
        "    for i in range(1, n+1):\n",
        "        if i%2 == 0:\n",
        "            set1.add(i)\n",
        "        \n",
        "\n",
        "          \n",
        "            \n",
        "    return set1\n",
        "\n",
        "set_accumulator(10)"
      ],
      "execution_count": null,
      "outputs": [
        {
          "output_type": "execute_result",
          "data": {
            "text/plain": [
              "{2, 4, 6, 8, 10}"
            ]
          },
          "metadata": {
            "tags": []
          },
          "execution_count": 31
        }
      ]
    },
    {
      "cell_type": "code",
      "metadata": {
        "colab": {
          "base_uri": "https://localhost:8080/",
          "height": 35
        },
        "id": "uycHoUhx53Rw",
        "outputId": "513a49f0-b302-482d-fe66-b27e8c319270"
      },
      "source": [
        "def try_to_remove(test_dict, test_key, pop):\n",
        "    if test_key in test_dict:\n",
        "        if pop:\n",
        "            test_dict.pop(test_key)\n",
        "        else:\n",
        "            del test_dict[test_key]\n",
        "        \n",
        "        return test_dict\n",
        "        \n",
        "    elif test_key not in test_dict:\n",
        "        return \"Key not found.\"\n",
        "\n",
        "test_dict = {2: 4, 3: 9, 4: 16, 5: 25}\n",
        "try_to_remove(test_dict, 1, pop=True)"
      ],
      "execution_count": null,
      "outputs": [
        {
          "output_type": "execute_result",
          "data": {
            "application/vnd.google.colaboratory.intrinsic+json": {
              "type": "string"
            },
            "text/plain": [
              "'Key not found.'"
            ]
          },
          "metadata": {
            "tags": []
          },
          "execution_count": 33
        }
      ]
    },
    {
      "cell_type": "code",
      "metadata": {
        "colab": {
          "base_uri": "https://localhost:8080/"
        },
        "id": "SjAkfG-XQvr-",
        "outputId": "a8576eaa-43f9-4472-9ec3-d2c7897d353c"
      },
      "source": [
        "def find_divisors(n):\n",
        "    \"\"\"\n",
        "    Finds all integers which evenly divide n.\n",
        "\n",
        "    Parameters:\n",
        "    ----------\n",
        "    n : int\n",
        "        A positive integer.\n",
        "\n",
        "    Returns:\n",
        "    ----------\n",
        "    list :\n",
        "        A list of the divisors of n.\n",
        "    \"\"\"\n",
        "    lst = []\n",
        "    for i in range(1, n+1):\n",
        "        if n%i == 0:\n",
        "            lst.append(i)\n",
        "    return lst\n",
        "    \n",
        "\n",
        "\n",
        "def is_prime(n):\n",
        "    \"\"\"\n",
        "    Determines if a number is prime.\n",
        "\n",
        "    Parameters:\n",
        "    ----------\n",
        "    n : int\n",
        "        A positive integer.\n",
        "\n",
        "    Returns:\n",
        "    ----------\n",
        "    boolean :\n",
        "        Whether n is prime.\n",
        "    \"\"\"\n",
        "    div = find_divisors(n)\n",
        "    if len(div) == 2:\n",
        "        return True\n",
        "    else:\n",
        "        return False\n",
        "    \n",
        "\n",
        "\n",
        "def find_next_prime(n):\n",
        "    \"\"\"\n",
        "    Finds the next prime number after n.\n",
        "\n",
        "    Parameters:\n",
        "    ----------\n",
        "    n : int\n",
        "        A positive integer.\n",
        "\n",
        "    Returns:\n",
        "    ----------\n",
        "    int :\n",
        "        The next prime number.\n",
        "    \"\"\"\n",
        "    n = n+1\n",
        "    prime = is_prime(n)\n",
        "    while not prime:\n",
        "        n += 1\n",
        "        prime = is_prime(n)\n",
        "        \n",
        "    return n\n",
        "\n",
        "find_next_prime(11)"
      ],
      "execution_count": null,
      "outputs": [
        {
          "output_type": "execute_result",
          "data": {
            "text/plain": [
              "13"
            ]
          },
          "metadata": {
            "tags": []
          },
          "execution_count": 36
        }
      ]
    },
    {
      "cell_type": "code",
      "metadata": {
        "id": "wASqzqRXlVq3"
      },
      "source": [
        "f = [89.3,88.5,83.2,84.5,87.0,82.2,87.5,88.3,87.9,83.2,84.2,86.3,86.6,85.6,86.5,88.8,87.9,85.5,84.4,88.0,83.9,90.0,84.7,87.8]\n",
        "sorted(f)"
      ],
      "execution_count": null,
      "outputs": []
    },
    {
      "cell_type": "code",
      "metadata": {
        "id": "Xp16qXS6l1-G"
      },
      "source": [
        "def numb_aplha():\n",
        "  alpha = ['adfadsadsaddsa']\n",
        "  aplha2 = []"
      ],
      "execution_count": null,
      "outputs": []
    },
    {
      "cell_type": "code",
      "metadata": {
        "colab": {
          "base_uri": "https://localhost:8080/",
          "height": 35
        },
        "id": "-K3FWVtllK8-",
        "outputId": "2d1d7d64-0b1a-4e8e-dae4-0cc831b0d589"
      },
      "source": [
        "\"{0:b}\".format(37)\n"
      ],
      "execution_count": null,
      "outputs": [
        {
          "output_type": "execute_result",
          "data": {
            "application/vnd.google.colaboratory.intrinsic+json": {
              "type": "string"
            },
            "text/plain": [
              "'100101'"
            ]
          },
          "metadata": {
            "tags": []
          },
          "execution_count": 4
        }
      ]
    },
    {
      "cell_type": "code",
      "metadata": {
        "colab": {
          "base_uri": "https://localhost:8080/"
        },
        "id": "EolV02exvzJk",
        "outputId": "f4fdf4b2-1ec3-4ec7-9b0a-d87f63a3282e"
      },
      "source": [
        "\n",
        "\n",
        "def bern(ins=10, p=.25):\n",
        "  lst = [1 for _ in range(ins) if np.random.rand() <= p]\n",
        "\n",
        "  return lst\n",
        "\n",
        "ls1 = []\n",
        "for i in range(10000):\n",
        "  ls1.append(len(bern())/10)\n",
        "\n",
        "np.mean(ls1)"
      ],
      "execution_count": 35,
      "outputs": [
        {
          "output_type": "execute_result",
          "data": {
            "text/plain": [
              "0.25143000000000004"
            ]
          },
          "metadata": {
            "tags": []
          },
          "execution_count": 35
        }
      ]
    },
    {
      "cell_type": "code",
      "metadata": {
        "id": "UyY7fLW1_Grm"
      },
      "source": [
        "import math\n",
        "\n",
        "def nCr(n,r):\n",
        "\n",
        "  r_set = set(range(1, n-r+1))\n",
        "  n_set = set(range(1, n+1))\n",
        "  comb_set = n_set.difference(r_set)\n",
        "  \n",
        "  prod = 1\n",
        "  for i in comb_set:\n",
        "    prod = prod * i\n",
        "  \n",
        "  r_fac = math.factorial(r)\n",
        "  return prod/r_fac\n",
        "\n"
      ],
      "execution_count": 95,
      "outputs": []
    },
    {
      "cell_type": "code",
      "metadata": {
        "colab": {
          "base_uri": "https://localhost:8080/"
        },
        "id": "T6lZ6wqdFs_E",
        "outputId": "bcb56fe8-a5ba-4c81-c74e-b695dcc73319"
      },
      "source": [
        "nCr(1000,3)"
      ],
      "execution_count": 96,
      "outputs": [
        {
          "output_type": "execute_result",
          "data": {
            "text/plain": [
              "166167000.0"
            ]
          },
          "metadata": {
            "tags": []
          },
          "execution_count": 96
        }
      ]
    },
    {
      "cell_type": "code",
      "metadata": {
        "id": "LQJq3xnC_IVx"
      },
      "source": [
        "def bin(n,k,p):\n",
        "  ncr = nCr(n,k)\n",
        "  \n",
        "  return ncr * (p**k) * (1-p)**(n-k)"
      ],
      "execution_count": 99,
      "outputs": []
    },
    {
      "cell_type": "code",
      "metadata": {
        "colab": {
          "base_uri": "https://localhost:8080/"
        },
        "id": "j4CxICloAgQZ",
        "outputId": "976ea8d6-70b3-4c90-cf41-554b2604bd89"
      },
      "source": [
        "bin(n=139, p=0.08, k=15)"
      ],
      "execution_count": 109,
      "outputs": [
        {
          "output_type": "execute_result",
          "data": {
            "text/plain": [
              "0.05554652477235543"
            ]
          },
          "metadata": {
            "tags": []
          },
          "execution_count": 109
        }
      ]
    },
    {
      "cell_type": "code",
      "metadata": {
        "colab": {
          "base_uri": "https://localhost:8080/"
        },
        "id": "NDEJoi9BGYj9",
        "outputId": "8ca4c8e7-8389-422c-a79a-4ff74741a1dc"
      },
      "source": [
        "lst = []\n",
        "\n",
        "for r in range(0, 10):\n",
        "  lst.append(bin(1000, r, .005))\n",
        "\n",
        "1- sum(lst)"
      ],
      "execution_count": 108,
      "outputs": [
        {
          "output_type": "execute_result",
          "data": {
            "text/plain": [
              "0.03146523851129601"
            ]
          },
          "metadata": {
            "tags": []
          },
          "execution_count": 108
        }
      ]
    },
    {
      "cell_type": "code",
      "metadata": {
        "colab": {
          "base_uri": "https://localhost:8080/"
        },
        "id": "Lo3yZ4n3j4DY",
        "outputId": "55570474-ab65-40a1-9f5b-be5d6c71eb5b"
      },
      "source": [
        "from scipy.stats import norm\n",
        "\n",
        "x = 53\n",
        "mu= 46.8\n",
        "sd = 1.75\n",
        "norm.cdf(x, loc=mu, scale=sd)\n",
        "\n"
      ],
      "execution_count": 111,
      "outputs": [
        {
          "output_type": "execute_result",
          "data": {
            "text/plain": [
              "0.9998020914708671"
            ]
          },
          "metadata": {
            "tags": []
          },
          "execution_count": 111
        }
      ]
    },
    {
      "cell_type": "code",
      "metadata": {
        "colab": {
          "base_uri": "https://localhost:8080/"
        },
        "id": "03rroESEtCXH",
        "outputId": "06fdd048-63f7-4b7f-e4f4-62f6cb759ac5"
      },
      "source": [
        "from scipy.stats import poisson\n",
        "\n",
        "poisson.pmf(25,20)"
      ],
      "execution_count": 112,
      "outputs": [
        {
          "output_type": "execute_result",
          "data": {
            "text/plain": [
              "0.04458764910826764"
            ]
          },
          "metadata": {
            "tags": []
          },
          "execution_count": 112
        }
      ]
    },
    {
      "cell_type": "code",
      "metadata": {
        "colab": {
          "base_uri": "https://localhost:8080/"
        },
        "id": "YjkiPPwXv3w_",
        "outputId": "a900c99e-457b-433a-d27a-f87d6e1eb0f2"
      },
      "source": [
        "p = .00016\n",
        "k = 2000\n",
        "\n",
        "def geom_prob_pmf(p,k):\n",
        "  return (1-p)**(k-1)*p\n",
        "\n",
        "geom_prob(p,k)"
      ],
      "execution_count": 113,
      "outputs": [
        {
          "output_type": "execute_result",
          "data": {
            "text/plain": [
              "0.00011619946326022645"
            ]
          },
          "metadata": {
            "tags": []
          },
          "execution_count": 113
        }
      ]
    },
    {
      "cell_type": "code",
      "metadata": {
        "colab": {
          "base_uri": "https://localhost:8080/"
        },
        "id": "c36VTjBOwM1J",
        "outputId": "7edf12dd-4364-4b7b-9831-78f3613e1689"
      },
      "source": [
        "def geom_prob_cdf(p,k):\n",
        "  return 1-(1-p)**k\n",
        "\n",
        "geom_prob_cdf(p,k)"
      ],
      "execution_count": 115,
      "outputs": [
        {
          "output_type": "execute_result",
          "data": {
            "text/plain": [
              "0.273869554086845"
            ]
          },
          "metadata": {
            "tags": []
          },
          "execution_count": 115
        }
      ]
    }
  ]
}