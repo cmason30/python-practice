{
  "nbformat": 4,
  "nbformat_minor": 0,
  "metadata": {
    "colab": {
      "name": "galvanize_code_challenge.ipynb",
      "provenance": [],
      "authorship_tag": "ABX9TyO8QGri3SLftUF77/P28U5R",
      "include_colab_link": true
    },
    "kernelspec": {
      "name": "python3",
      "display_name": "Python 3"
    },
    "language_info": {
      "name": "python"
    }
  },
  "cells": [
    {
      "cell_type": "markdown",
      "metadata": {
        "id": "view-in-github",
        "colab_type": "text"
      },
      "source": [
        "<a href=\"https://colab.research.google.com/github/cmason30/python-practice/blob/master/galvanize_code_challenge.ipynb\" target=\"_parent\"><img src=\"https://colab.research.google.com/assets/colab-badge.svg\" alt=\"Open In Colab\"/></a>"
      ]
    },
    {
      "cell_type": "code",
      "metadata": {
        "id": "gkdpi-9xc8HO"
      },
      "source": [
        "def sum_rec_dig(n): \n",
        "  dig_list = [int(i) for i in str(n)]\n",
        "  sum_rec = sum(dig_list)\n",
        "  while sum_rec > 9:\n",
        "    new_rec_list = [int(i) for i in str(sum_rec)]\n",
        "    sum_rec = sum(new_rec_list)\n",
        "    \n",
        "  return sum_rec"
      ],
      "execution_count": null,
      "outputs": []
    },
    {
      "cell_type": "code",
      "metadata": {
        "colab": {
          "base_uri": "https://localhost:8080/"
        },
        "id": "tRpCCScRdIBz",
        "outputId": "bf6ae383-7a64-42d5-e4b1-520a78a1e9f6"
      },
      "source": [
        "sum_rec_dig(5218)"
      ],
      "execution_count": null,
      "outputs": [
        {
          "output_type": "execute_result",
          "data": {
            "text/plain": [
              "7"
            ]
          },
          "metadata": {
            "tags": []
          },
          "execution_count": 42
        }
      ]
    },
    {
      "cell_type": "code",
      "metadata": {
        "id": "WAX6bCssPCfc"
      },
      "source": [
        "def distr_of_rec_digit_sums(low=0, high=1500):\n",
        "  hist_int = dict.fromkeys(range(0,10), 0)\n",
        "  for i in range(low, high + 1):\n",
        "    hist_int[sum_rec_dig(i)] += 1\n",
        "\n",
        "  return hist_int"
      ],
      "execution_count": null,
      "outputs": []
    },
    {
      "cell_type": "code",
      "metadata": {
        "colab": {
          "base_uri": "https://localhost:8080/"
        },
        "id": "9TU_qXNYQknL",
        "outputId": "9d97c1cf-7e4c-4355-dcf8-9d136b15561f"
      },
      "source": [
        "distr_of_rec_digit_sums()"
      ],
      "execution_count": null,
      "outputs": [
        {
          "output_type": "stream",
          "text": [
            "{0: 0, 1: 0, 2: 0, 3: 0, 4: 0, 5: 0, 6: 0, 7: 0, 8: 0, 9: 0}\n"
          ],
          "name": "stdout"
        },
        {
          "output_type": "execute_result",
          "data": {
            "text/plain": [
              "{0: 1, 1: 167, 2: 167, 3: 167, 4: 167, 5: 167, 6: 167, 7: 166, 8: 166, 9: 166}"
            ]
          },
          "metadata": {
            "tags": []
          },
          "execution_count": 40
        }
      ]
    },
    {
      "cell_type": "code",
      "metadata": {
        "colab": {
          "base_uri": "https://localhost:8080/"
        },
        "id": "SsGKZ5kKWH2M",
        "outputId": "a8839b2b-bc32-431b-a8d5-a2330ab4a216"
      },
      "source": [
        "def dig_pow(n, p):\n",
        "    split_dig = [int(i) for i in str(n)]\n",
        "    \n",
        "    pow_dig = []\n",
        "    for i in split_dig:\n",
        "        pow_dig.append(i**p)\n",
        "        p += 1\n",
        "        \n",
        "    sum_list = sum(pow_dig)\n",
        "\n",
        "    k = 1\n",
        "    print(n*k)\n",
        "    print(sum_list)\n",
        "\n",
        "    while (n*k) < sum_list:\n",
        "      if n*k == sum_list:\n",
        "          return k\n",
        "      else:\n",
        "          return -1\n",
        "      k += 1\n",
        "      print(k)\n",
        "dig_pow(89, 1)"
      ],
      "execution_count": null,
      "outputs": [
        {
          "output_type": "stream",
          "text": [
            "89\n",
            "89\n"
          ],
          "name": "stdout"
        }
      ]
    },
    {
      "cell_type": "code",
      "metadata": {
        "id": "ihFV5f8YpsGU"
      },
      "source": [
        "def sort_and_test(list_1, list_2):\n",
        "    sort_list = list_1.copy()\n",
        "    sort_list.sort(reverse=True)\n",
        "    print(list_1, sort_list)\n",
        "    if sort_list == list_1:\n",
        "        return True\n",
        "    else:\n",
        "        return False"
      ],
      "execution_count": null,
      "outputs": []
    },
    {
      "cell_type": "code",
      "metadata": {
        "colab": {
          "base_uri": "https://localhost:8080/"
        },
        "id": "HAwle-qDpuGC",
        "outputId": "dfe00b23-e1e3-4b80-bd57-44b51e96cc18"
      },
      "source": [
        "x = [10, 9, 8, 7, 6, 5]\n",
        "y = list(range(5, 11))\n",
        "\n",
        "result = sort_and_test(x, y)\n",
        "result"
      ],
      "execution_count": null,
      "outputs": [
        {
          "output_type": "stream",
          "text": [
            "[10, 9, 8, 7, 6, 5] [10, 9, 8, 7, 6, 5]\n"
          ],
          "name": "stdout"
        },
        {
          "output_type": "execute_result",
          "data": {
            "text/plain": [
              "True"
            ]
          },
          "metadata": {
            "tags": []
          },
          "execution_count": 32
        }
      ]
    },
    {
      "cell_type": "code",
      "metadata": {
        "colab": {
          "base_uri": "https://localhost:8080/"
        },
        "id": "pY_7fCCAu19C",
        "outputId": "c97c6757-9253-44fc-92c1-7eea6ba86236"
      },
      "source": [
        "i = 0\n",
        "total = 0\n",
        "loop = True\n",
        "while loop:\n",
        "    if i%10 == 0:\n",
        "        i += 1\n",
        "    else:\n",
        "        total += i\n",
        "        i += 1\n",
        "    if i > 100:\n",
        "        loop = False\n",
        "print(total)"
      ],
      "execution_count": null,
      "outputs": [
        {
          "output_type": "stream",
          "text": [
            "4500\n"
          ],
          "name": "stdout"
        }
      ]
    },
    {
      "cell_type": "code",
      "metadata": {
        "colab": {
          "base_uri": "https://localhost:8080/"
        },
        "id": "3HAbE_KUu4yD",
        "outputId": "901b4499-cddb-47e8-ba98-354cb4c5089d"
      },
      "source": [
        "def sort_remove_dupes_print(*args):\n",
        "    sorted_args = set(args)\n",
        "    print(\" < \".join(map(str, sorted_args)))\n",
        "\n",
        "sort_remove_dupes_print(1, 5, 2, 3, 1, 45, 12, 4, 2, 56, 6, 2, 1, 2, 4)"
      ],
      "execution_count": null,
      "outputs": [
        {
          "output_type": "stream",
          "text": [
            "1 < 2 < 3 < 4 < 5 < 6 < 12 < 45 < 56\n"
          ],
          "name": "stdout"
        }
      ]
    },
    {
      "cell_type": "code",
      "metadata": {
        "id": "0nSxzny5riHJ"
      },
      "source": [
        "def greater_than(x, y):\n",
        "    \"\"\"\n",
        "    Returns the string '_ is greater than _, and their difference is _'\n",
        "    where the values of the arguments x and y are substituted into the string\n",
        "    according to which value is greater.\n",
        "\n",
        "    Ex:\n",
        "    greater_than(-6, 3) -> '3 is greater than -6, and their difference is 9.'\n",
        "\n",
        "    Parameters:\n",
        "    ----------\n",
        "    x : int\n",
        "    y : int\n",
        "\n",
        "    Returns:\n",
        "    ----------\n",
        "    A string that dynamically inserts the variables x and y,\n",
        "    as well as their difference.\n",
        "    \"\"\"\n",
        "    if x > y:\n",
        "        diff = x - y\n",
        "        return f'{x} is greater than {y}, and their difference is {diff}'\n",
        "    else:\n",
        "        diff = y - x\n",
        "        return f'{y} is greater than {x}, and their difference is {diff}'\n",
        "        \n",
        "        "
      ],
      "execution_count": null,
      "outputs": []
    },
    {
      "cell_type": "code",
      "metadata": {
        "colab": {
          "base_uri": "https://localhost:8080/",
          "height": 35
        },
        "id": "twa8i7c7rpSK",
        "outputId": "cb26df11-b2e2-4c13-a758-4ebb5e815816"
      },
      "source": [
        "greater_than(1, 2)"
      ],
      "execution_count": null,
      "outputs": [
        {
          "output_type": "execute_result",
          "data": {
            "application/vnd.google.colaboratory.intrinsic+json": {
              "type": "string"
            },
            "text/plain": [
              "'2 is greater than 1, and their difference is 1'"
            ]
          },
          "metadata": {
            "tags": []
          },
          "execution_count": 52
        }
      ]
    },
    {
      "cell_type": "code",
      "metadata": {
        "colab": {
          "base_uri": "https://localhost:8080/"
        },
        "id": "PEm6MIpC-DDE",
        "outputId": "84660c65-9241-4f7f-de99-c37b5eda8c21"
      },
      "source": [
        "tuple_1 = (1, 2, 3)\n",
        "tuple_2 = (4, 5, 6)\n",
        "\n",
        "tuple_3 = tuple_1 + tuple_2\n",
        "print(tuple_3)\n",
        "\n",
        "tuple_4 = tuple_2 * 2\n",
        "print(tuple_4)"
      ],
      "execution_count": null,
      "outputs": [
        {
          "output_type": "stream",
          "text": [
            "(1, 2, 3, 4, 5, 6)\n",
            "(4, 5, 6, 4, 5, 6)\n"
          ],
          "name": "stdout"
        }
      ]
    },
    {
      "cell_type": "code",
      "metadata": {
        "colab": {
          "base_uri": "https://localhost:8080/"
        },
        "id": "DnZLV5ODhxet",
        "outputId": "785a8d14-8b08-45c6-a07f-9d7ae1ec9ae1"
      },
      "source": [
        "def remove_or_add(x, y):\n",
        "  set_x = x\n",
        "\n",
        "  for i in y:\n",
        "    if i not in set_x:\n",
        "      set_x.add(i)\n",
        "    elif i in set_x:\n",
        "      set_x.remove(i)\n",
        "\n",
        "\n",
        "  return set_x\n",
        "\n",
        "remove_or_add({1, 2, 3}, [1, 'a'])"
      ],
      "execution_count": 25,
      "outputs": [
        {
          "output_type": "execute_result",
          "data": {
            "text/plain": [
              "{2, 3, 'a'}"
            ]
          },
          "metadata": {
            "tags": []
          },
          "execution_count": 25
        }
      ]
    },
    {
      "cell_type": "code",
      "metadata": {
        "colab": {
          "base_uri": "https://localhost:8080/"
        },
        "id": "hSz1fielseOg",
        "outputId": "767eca17-cc2f-4fdd-8a8f-cc612fb9c627"
      },
      "source": [
        "def set_accumulator(n):\n",
        "    set1 = set()\n",
        "    for i in range(1, n+1):\n",
        "        if i%2 == 0:\n",
        "            set1.add(i)\n",
        "        \n",
        "\n",
        "          \n",
        "            \n",
        "    return set1\n",
        "\n",
        "set_accumulator(10)"
      ],
      "execution_count": 31,
      "outputs": [
        {
          "output_type": "execute_result",
          "data": {
            "text/plain": [
              "{2, 4, 6, 8, 10}"
            ]
          },
          "metadata": {
            "tags": []
          },
          "execution_count": 31
        }
      ]
    }
  ]
}